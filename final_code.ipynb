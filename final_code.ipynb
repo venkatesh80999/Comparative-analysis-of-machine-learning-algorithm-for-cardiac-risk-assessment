{
  "nbformat": 4,
  "nbformat_minor": 0,
  "metadata": {
    "kernelspec": {
      "display_name": "Python 3",
      "language": "python",
      "name": "python3"
    },
    "language_info": {
      "codemirror_mode": {
        "name": "ipython",
        "version": 3
      },
      "file_extension": ".py",
      "mimetype": "text/x-python",
      "name": "python",
      "nbconvert_exporter": "python",
      "pygments_lexer": "ipython3",
      "version": "3.7.6"
    },
    "colab": {
      "name": "final code.ipynb",
      "provenance": []
    }
  },
  "cells": [
    {
      "cell_type": "markdown",
      "metadata": {
        "id": "LMvB5DAUOvC8"
      },
      "source": [
        "# Importing Files"
      ]
    },
    {
      "cell_type": "code",
      "metadata": {
        "id": "XtuOsBwQOvC_"
      },
      "source": [
        "import numpy as np\n",
        "import pandas as pd\n",
        "import matplotlib.pyplot as plt\n",
        "import seaborn as sns"
      ],
      "execution_count": null,
      "outputs": []
    },
    {
      "cell_type": "markdown",
      "metadata": {
        "id": "kZ-7yY2GOvC_"
      },
      "source": [
        "# Import Data"
      ]
    },
    {
      "cell_type": "code",
      "metadata": {
        "id": "8e5st1ehOvDA"
      },
      "source": [
        "df = pd.read_csv(r\"C:\\Users\\DELL\\Downloads\\300data.csv\")"
      ],
      "execution_count": null,
      "outputs": []
    },
    {
      "cell_type": "markdown",
      "metadata": {
        "id": "JZXvHzOiOvDA"
      },
      "source": [
        "# View Data"
      ]
    },
    {
      "cell_type": "code",
      "metadata": {
        "id": "M4xafHvDOvDA",
        "outputId": "70242917-82f0-48c5-c131-823a1a92f48d"
      },
      "source": [
        "df.head()"
      ],
      "execution_count": null,
      "outputs": [
        {
          "output_type": "execute_result",
          "data": {
            "text/html": [
              "<div>\n",
              "<style scoped>\n",
              "    .dataframe tbody tr th:only-of-type {\n",
              "        vertical-align: middle;\n",
              "    }\n",
              "\n",
              "    .dataframe tbody tr th {\n",
              "        vertical-align: top;\n",
              "    }\n",
              "\n",
              "    .dataframe thead th {\n",
              "        text-align: right;\n",
              "    }\n",
              "</style>\n",
              "<table border=\"1\" class=\"dataframe\">\n",
              "  <thead>\n",
              "    <tr style=\"text-align: right;\">\n",
              "      <th></th>\n",
              "      <th>age</th>\n",
              "      <th>sex</th>\n",
              "      <th>cp</th>\n",
              "      <th>trestbps</th>\n",
              "      <th>chol</th>\n",
              "      <th>fbs</th>\n",
              "      <th>restecg</th>\n",
              "      <th>thalch</th>\n",
              "      <th>exang</th>\n",
              "      <th>oldpeak</th>\n",
              "      <th>slope</th>\n",
              "      <th>ca</th>\n",
              "      <th>thal</th>\n",
              "      <th>num</th>\n",
              "    </tr>\n",
              "  </thead>\n",
              "  <tbody>\n",
              "    <tr>\n",
              "      <th>0</th>\n",
              "      <td>63</td>\n",
              "      <td>1</td>\n",
              "      <td>1</td>\n",
              "      <td>145</td>\n",
              "      <td>233</td>\n",
              "      <td>1</td>\n",
              "      <td>2</td>\n",
              "      <td>150</td>\n",
              "      <td>0</td>\n",
              "      <td>2.3</td>\n",
              "      <td>3</td>\n",
              "      <td>0</td>\n",
              "      <td>6</td>\n",
              "      <td>0</td>\n",
              "    </tr>\n",
              "    <tr>\n",
              "      <th>1</th>\n",
              "      <td>67</td>\n",
              "      <td>1</td>\n",
              "      <td>4</td>\n",
              "      <td>160</td>\n",
              "      <td>286</td>\n",
              "      <td>0</td>\n",
              "      <td>2</td>\n",
              "      <td>108</td>\n",
              "      <td>1</td>\n",
              "      <td>1.5</td>\n",
              "      <td>2</td>\n",
              "      <td>3</td>\n",
              "      <td>3</td>\n",
              "      <td>2</td>\n",
              "    </tr>\n",
              "    <tr>\n",
              "      <th>2</th>\n",
              "      <td>67</td>\n",
              "      <td>1</td>\n",
              "      <td>4</td>\n",
              "      <td>120</td>\n",
              "      <td>229</td>\n",
              "      <td>0</td>\n",
              "      <td>2</td>\n",
              "      <td>129</td>\n",
              "      <td>1</td>\n",
              "      <td>2.6</td>\n",
              "      <td>2</td>\n",
              "      <td>2</td>\n",
              "      <td>7</td>\n",
              "      <td>1</td>\n",
              "    </tr>\n",
              "    <tr>\n",
              "      <th>3</th>\n",
              "      <td>37</td>\n",
              "      <td>1</td>\n",
              "      <td>3</td>\n",
              "      <td>130</td>\n",
              "      <td>250</td>\n",
              "      <td>0</td>\n",
              "      <td>0</td>\n",
              "      <td>187</td>\n",
              "      <td>0</td>\n",
              "      <td>3.5</td>\n",
              "      <td>3</td>\n",
              "      <td>0</td>\n",
              "      <td>3</td>\n",
              "      <td>0</td>\n",
              "    </tr>\n",
              "    <tr>\n",
              "      <th>4</th>\n",
              "      <td>41</td>\n",
              "      <td>0</td>\n",
              "      <td>2</td>\n",
              "      <td>130</td>\n",
              "      <td>204</td>\n",
              "      <td>0</td>\n",
              "      <td>2</td>\n",
              "      <td>172</td>\n",
              "      <td>0</td>\n",
              "      <td>1.4</td>\n",
              "      <td>1</td>\n",
              "      <td>0</td>\n",
              "      <td>3</td>\n",
              "      <td>0</td>\n",
              "    </tr>\n",
              "  </tbody>\n",
              "</table>\n",
              "</div>"
            ],
            "text/plain": [
              "   age  sex  cp  trestbps  chol  fbs  restecg  thalch  exang  oldpeak  slope  \\\n",
              "0   63    1   1       145   233    1        2     150      0      2.3      3   \n",
              "1   67    1   4       160   286    0        2     108      1      1.5      2   \n",
              "2   67    1   4       120   229    0        2     129      1      2.6      2   \n",
              "3   37    1   3       130   250    0        0     187      0      3.5      3   \n",
              "4   41    0   2       130   204    0        2     172      0      1.4      1   \n",
              "\n",
              "   ca  thal  num  \n",
              "0   0     6    0  \n",
              "1   3     3    2  \n",
              "2   2     7    1  \n",
              "3   0     3    0  \n",
              "4   0     3    0  "
            ]
          },
          "metadata": {
            "tags": []
          },
          "execution_count": 247
        }
      ]
    },
    {
      "cell_type": "code",
      "metadata": {
        "id": "PldSgU6POvDC",
        "outputId": "c1459300-faef-40b2-9338-446646760654"
      },
      "source": [
        "df.tail()"
      ],
      "execution_count": null,
      "outputs": [
        {
          "output_type": "execute_result",
          "data": {
            "text/html": [
              "<div>\n",
              "<style scoped>\n",
              "    .dataframe tbody tr th:only-of-type {\n",
              "        vertical-align: middle;\n",
              "    }\n",
              "\n",
              "    .dataframe tbody tr th {\n",
              "        vertical-align: top;\n",
              "    }\n",
              "\n",
              "    .dataframe thead th {\n",
              "        text-align: right;\n",
              "    }\n",
              "</style>\n",
              "<table border=\"1\" class=\"dataframe\">\n",
              "  <thead>\n",
              "    <tr style=\"text-align: right;\">\n",
              "      <th></th>\n",
              "      <th>age</th>\n",
              "      <th>sex</th>\n",
              "      <th>cp</th>\n",
              "      <th>trestbps</th>\n",
              "      <th>chol</th>\n",
              "      <th>fbs</th>\n",
              "      <th>restecg</th>\n",
              "      <th>thalch</th>\n",
              "      <th>exang</th>\n",
              "      <th>oldpeak</th>\n",
              "      <th>slope</th>\n",
              "      <th>ca</th>\n",
              "      <th>thal</th>\n",
              "      <th>num</th>\n",
              "    </tr>\n",
              "  </thead>\n",
              "  <tbody>\n",
              "    <tr>\n",
              "      <th>298</th>\n",
              "      <td>45</td>\n",
              "      <td>1</td>\n",
              "      <td>1</td>\n",
              "      <td>110</td>\n",
              "      <td>264</td>\n",
              "      <td>0</td>\n",
              "      <td>0</td>\n",
              "      <td>132</td>\n",
              "      <td>0</td>\n",
              "      <td>1.2</td>\n",
              "      <td>2</td>\n",
              "      <td>0</td>\n",
              "      <td>7</td>\n",
              "      <td>1</td>\n",
              "    </tr>\n",
              "    <tr>\n",
              "      <th>299</th>\n",
              "      <td>68</td>\n",
              "      <td>1</td>\n",
              "      <td>4</td>\n",
              "      <td>144</td>\n",
              "      <td>193</td>\n",
              "      <td>1</td>\n",
              "      <td>0</td>\n",
              "      <td>141</td>\n",
              "      <td>0</td>\n",
              "      <td>3.4</td>\n",
              "      <td>2</td>\n",
              "      <td>2</td>\n",
              "      <td>7</td>\n",
              "      <td>2</td>\n",
              "    </tr>\n",
              "    <tr>\n",
              "      <th>300</th>\n",
              "      <td>57</td>\n",
              "      <td>1</td>\n",
              "      <td>4</td>\n",
              "      <td>130</td>\n",
              "      <td>131</td>\n",
              "      <td>0</td>\n",
              "      <td>0</td>\n",
              "      <td>115</td>\n",
              "      <td>1</td>\n",
              "      <td>1.2</td>\n",
              "      <td>2</td>\n",
              "      <td>1</td>\n",
              "      <td>7</td>\n",
              "      <td>3</td>\n",
              "    </tr>\n",
              "    <tr>\n",
              "      <th>301</th>\n",
              "      <td>57</td>\n",
              "      <td>0</td>\n",
              "      <td>2</td>\n",
              "      <td>130</td>\n",
              "      <td>236</td>\n",
              "      <td>0</td>\n",
              "      <td>2</td>\n",
              "      <td>174</td>\n",
              "      <td>0</td>\n",
              "      <td>0.0</td>\n",
              "      <td>2</td>\n",
              "      <td>1</td>\n",
              "      <td>3</td>\n",
              "      <td>1</td>\n",
              "    </tr>\n",
              "    <tr>\n",
              "      <th>302</th>\n",
              "      <td>38</td>\n",
              "      <td>1</td>\n",
              "      <td>3</td>\n",
              "      <td>138</td>\n",
              "      <td>175</td>\n",
              "      <td>0</td>\n",
              "      <td>0</td>\n",
              "      <td>173</td>\n",
              "      <td>0</td>\n",
              "      <td>0.0</td>\n",
              "      <td>1</td>\n",
              "      <td>0</td>\n",
              "      <td>3</td>\n",
              "      <td>0</td>\n",
              "    </tr>\n",
              "  </tbody>\n",
              "</table>\n",
              "</div>"
            ],
            "text/plain": [
              "     age  sex  cp  trestbps  chol  fbs  restecg  thalch  exang  oldpeak  \\\n",
              "298   45    1   1       110   264    0        0     132      0      1.2   \n",
              "299   68    1   4       144   193    1        0     141      0      3.4   \n",
              "300   57    1   4       130   131    0        0     115      1      1.2   \n",
              "301   57    0   2       130   236    0        2     174      0      0.0   \n",
              "302   38    1   3       138   175    0        0     173      0      0.0   \n",
              "\n",
              "     slope  ca  thal  num  \n",
              "298      2   0     7    1  \n",
              "299      2   2     7    2  \n",
              "300      2   1     7    3  \n",
              "301      2   1     3    1  \n",
              "302      1   0     3    0  "
            ]
          },
          "metadata": {
            "tags": []
          },
          "execution_count": 248
        }
      ]
    },
    {
      "cell_type": "code",
      "metadata": {
        "id": "PKGmUT15OvDC",
        "outputId": "c71db3d1-306d-4470-c35b-162171a799c8"
      },
      "source": [
        "df.shape"
      ],
      "execution_count": null,
      "outputs": [
        {
          "output_type": "execute_result",
          "data": {
            "text/plain": [
              "(303, 14)"
            ]
          },
          "metadata": {
            "tags": []
          },
          "execution_count": 249
        }
      ]
    },
    {
      "cell_type": "markdown",
      "metadata": {
        "id": "OaGV-UkNOvDD"
      },
      "source": [
        "# Null Check"
      ]
    },
    {
      "cell_type": "code",
      "metadata": {
        "id": "zeyv_Er8OvDD",
        "outputId": "62062eba-921b-4b78-a89e-7adb7eff553a"
      },
      "source": [
        "df.isnull().sum()"
      ],
      "execution_count": null,
      "outputs": [
        {
          "output_type": "execute_result",
          "data": {
            "text/plain": [
              "age         0\n",
              "sex         0\n",
              "cp          0\n",
              "trestbps    0\n",
              "chol        0\n",
              "fbs         0\n",
              "restecg     0\n",
              "thalch      0\n",
              "exang       0\n",
              "oldpeak     0\n",
              "slope       0\n",
              "ca          0\n",
              "thal        0\n",
              "num         0\n",
              "dtype: int64"
            ]
          },
          "metadata": {
            "tags": []
          },
          "execution_count": 250
        }
      ]
    },
    {
      "cell_type": "code",
      "metadata": {
        "id": "t6JcL7ntOvDD",
        "outputId": "bc3fb429-131d-4d2a-d35b-89b34a7f2b7b"
      },
      "source": [
        "df.describe()"
      ],
      "execution_count": null,
      "outputs": [
        {
          "output_type": "execute_result",
          "data": {
            "text/html": [
              "<div>\n",
              "<style scoped>\n",
              "    .dataframe tbody tr th:only-of-type {\n",
              "        vertical-align: middle;\n",
              "    }\n",
              "\n",
              "    .dataframe tbody tr th {\n",
              "        vertical-align: top;\n",
              "    }\n",
              "\n",
              "    .dataframe thead th {\n",
              "        text-align: right;\n",
              "    }\n",
              "</style>\n",
              "<table border=\"1\" class=\"dataframe\">\n",
              "  <thead>\n",
              "    <tr style=\"text-align: right;\">\n",
              "      <th></th>\n",
              "      <th>age</th>\n",
              "      <th>sex</th>\n",
              "      <th>cp</th>\n",
              "      <th>trestbps</th>\n",
              "      <th>chol</th>\n",
              "      <th>fbs</th>\n",
              "      <th>restecg</th>\n",
              "      <th>thalch</th>\n",
              "      <th>exang</th>\n",
              "      <th>oldpeak</th>\n",
              "      <th>slope</th>\n",
              "      <th>ca</th>\n",
              "      <th>thal</th>\n",
              "      <th>num</th>\n",
              "    </tr>\n",
              "  </thead>\n",
              "  <tbody>\n",
              "    <tr>\n",
              "      <th>count</th>\n",
              "      <td>303.000000</td>\n",
              "      <td>303.000000</td>\n",
              "      <td>303.000000</td>\n",
              "      <td>303.000000</td>\n",
              "      <td>303.000000</td>\n",
              "      <td>303.000000</td>\n",
              "      <td>303.000000</td>\n",
              "      <td>303.000000</td>\n",
              "      <td>303.000000</td>\n",
              "      <td>303.000000</td>\n",
              "      <td>303.000000</td>\n",
              "      <td>303.000000</td>\n",
              "      <td>303.000000</td>\n",
              "      <td>303.000000</td>\n",
              "    </tr>\n",
              "    <tr>\n",
              "      <th>mean</th>\n",
              "      <td>54.438944</td>\n",
              "      <td>0.679868</td>\n",
              "      <td>3.158416</td>\n",
              "      <td>131.689769</td>\n",
              "      <td>246.693069</td>\n",
              "      <td>0.148515</td>\n",
              "      <td>0.990099</td>\n",
              "      <td>149.607261</td>\n",
              "      <td>0.326733</td>\n",
              "      <td>1.039604</td>\n",
              "      <td>1.600660</td>\n",
              "      <td>0.683168</td>\n",
              "      <td>4.732673</td>\n",
              "      <td>0.937294</td>\n",
              "    </tr>\n",
              "    <tr>\n",
              "      <th>std</th>\n",
              "      <td>9.038662</td>\n",
              "      <td>0.467299</td>\n",
              "      <td>0.960126</td>\n",
              "      <td>17.599748</td>\n",
              "      <td>51.776918</td>\n",
              "      <td>0.356198</td>\n",
              "      <td>0.994971</td>\n",
              "      <td>22.875003</td>\n",
              "      <td>0.469794</td>\n",
              "      <td>1.161075</td>\n",
              "      <td>0.616226</td>\n",
              "      <td>0.944808</td>\n",
              "      <td>1.937215</td>\n",
              "      <td>1.228536</td>\n",
              "    </tr>\n",
              "    <tr>\n",
              "      <th>min</th>\n",
              "      <td>29.000000</td>\n",
              "      <td>0.000000</td>\n",
              "      <td>1.000000</td>\n",
              "      <td>94.000000</td>\n",
              "      <td>126.000000</td>\n",
              "      <td>0.000000</td>\n",
              "      <td>0.000000</td>\n",
              "      <td>71.000000</td>\n",
              "      <td>0.000000</td>\n",
              "      <td>0.000000</td>\n",
              "      <td>1.000000</td>\n",
              "      <td>0.000000</td>\n",
              "      <td>3.000000</td>\n",
              "      <td>0.000000</td>\n",
              "    </tr>\n",
              "    <tr>\n",
              "      <th>25%</th>\n",
              "      <td>48.000000</td>\n",
              "      <td>0.000000</td>\n",
              "      <td>3.000000</td>\n",
              "      <td>120.000000</td>\n",
              "      <td>211.000000</td>\n",
              "      <td>0.000000</td>\n",
              "      <td>0.000000</td>\n",
              "      <td>133.500000</td>\n",
              "      <td>0.000000</td>\n",
              "      <td>0.000000</td>\n",
              "      <td>1.000000</td>\n",
              "      <td>0.000000</td>\n",
              "      <td>3.000000</td>\n",
              "      <td>0.000000</td>\n",
              "    </tr>\n",
              "    <tr>\n",
              "      <th>50%</th>\n",
              "      <td>56.000000</td>\n",
              "      <td>1.000000</td>\n",
              "      <td>3.000000</td>\n",
              "      <td>130.000000</td>\n",
              "      <td>241.000000</td>\n",
              "      <td>0.000000</td>\n",
              "      <td>1.000000</td>\n",
              "      <td>153.000000</td>\n",
              "      <td>0.000000</td>\n",
              "      <td>0.800000</td>\n",
              "      <td>2.000000</td>\n",
              "      <td>0.000000</td>\n",
              "      <td>3.000000</td>\n",
              "      <td>0.000000</td>\n",
              "    </tr>\n",
              "    <tr>\n",
              "      <th>75%</th>\n",
              "      <td>61.000000</td>\n",
              "      <td>1.000000</td>\n",
              "      <td>4.000000</td>\n",
              "      <td>140.000000</td>\n",
              "      <td>275.000000</td>\n",
              "      <td>0.000000</td>\n",
              "      <td>2.000000</td>\n",
              "      <td>166.000000</td>\n",
              "      <td>1.000000</td>\n",
              "      <td>1.600000</td>\n",
              "      <td>2.000000</td>\n",
              "      <td>1.000000</td>\n",
              "      <td>7.000000</td>\n",
              "      <td>2.000000</td>\n",
              "    </tr>\n",
              "    <tr>\n",
              "      <th>max</th>\n",
              "      <td>77.000000</td>\n",
              "      <td>1.000000</td>\n",
              "      <td>4.000000</td>\n",
              "      <td>200.000000</td>\n",
              "      <td>564.000000</td>\n",
              "      <td>1.000000</td>\n",
              "      <td>2.000000</td>\n",
              "      <td>202.000000</td>\n",
              "      <td>1.000000</td>\n",
              "      <td>6.200000</td>\n",
              "      <td>3.000000</td>\n",
              "      <td>3.000000</td>\n",
              "      <td>7.000000</td>\n",
              "      <td>4.000000</td>\n",
              "    </tr>\n",
              "  </tbody>\n",
              "</table>\n",
              "</div>"
            ],
            "text/plain": [
              "              age         sex          cp    trestbps        chol         fbs  \\\n",
              "count  303.000000  303.000000  303.000000  303.000000  303.000000  303.000000   \n",
              "mean    54.438944    0.679868    3.158416  131.689769  246.693069    0.148515   \n",
              "std      9.038662    0.467299    0.960126   17.599748   51.776918    0.356198   \n",
              "min     29.000000    0.000000    1.000000   94.000000  126.000000    0.000000   \n",
              "25%     48.000000    0.000000    3.000000  120.000000  211.000000    0.000000   \n",
              "50%     56.000000    1.000000    3.000000  130.000000  241.000000    0.000000   \n",
              "75%     61.000000    1.000000    4.000000  140.000000  275.000000    0.000000   \n",
              "max     77.000000    1.000000    4.000000  200.000000  564.000000    1.000000   \n",
              "\n",
              "          restecg      thalch       exang     oldpeak       slope          ca  \\\n",
              "count  303.000000  303.000000  303.000000  303.000000  303.000000  303.000000   \n",
              "mean     0.990099  149.607261    0.326733    1.039604    1.600660    0.683168   \n",
              "std      0.994971   22.875003    0.469794    1.161075    0.616226    0.944808   \n",
              "min      0.000000   71.000000    0.000000    0.000000    1.000000    0.000000   \n",
              "25%      0.000000  133.500000    0.000000    0.000000    1.000000    0.000000   \n",
              "50%      1.000000  153.000000    0.000000    0.800000    2.000000    0.000000   \n",
              "75%      2.000000  166.000000    1.000000    1.600000    2.000000    1.000000   \n",
              "max      2.000000  202.000000    1.000000    6.200000    3.000000    3.000000   \n",
              "\n",
              "             thal         num  \n",
              "count  303.000000  303.000000  \n",
              "mean     4.732673    0.937294  \n",
              "std      1.937215    1.228536  \n",
              "min      3.000000    0.000000  \n",
              "25%      3.000000    0.000000  \n",
              "50%      3.000000    0.000000  \n",
              "75%      7.000000    2.000000  \n",
              "max      7.000000    4.000000  "
            ]
          },
          "metadata": {
            "tags": []
          },
          "execution_count": 251
        }
      ]
    },
    {
      "cell_type": "code",
      "metadata": {
        "id": "Vz517taPOvDE",
        "outputId": "d309ead1-01a6-432b-a416-9ab8c978a1d8"
      },
      "source": [
        "df.info()"
      ],
      "execution_count": null,
      "outputs": [
        {
          "output_type": "stream",
          "text": [
            "<class 'pandas.core.frame.DataFrame'>\n",
            "RangeIndex: 303 entries, 0 to 302\n",
            "Data columns (total 14 columns):\n",
            " #   Column    Non-Null Count  Dtype  \n",
            "---  ------    --------------  -----  \n",
            " 0   age       303 non-null    int64  \n",
            " 1   sex       303 non-null    int64  \n",
            " 2   cp        303 non-null    int64  \n",
            " 3   trestbps  303 non-null    int64  \n",
            " 4   chol      303 non-null    int64  \n",
            " 5   fbs       303 non-null    int64  \n",
            " 6   restecg   303 non-null    int64  \n",
            " 7   thalch    303 non-null    int64  \n",
            " 8   exang     303 non-null    int64  \n",
            " 9   oldpeak   303 non-null    float64\n",
            " 10  slope     303 non-null    int64  \n",
            " 11  ca        303 non-null    int64  \n",
            " 12  thal      303 non-null    int64  \n",
            " 13  num       303 non-null    int64  \n",
            "dtypes: float64(1), int64(13)\n",
            "memory usage: 33.3 KB\n"
          ],
          "name": "stdout"
        }
      ]
    },
    {
      "cell_type": "markdown",
      "metadata": {
        "id": "rmbw_itlOvDE"
      },
      "source": [
        "# Correlation & Heatmap"
      ]
    },
    {
      "cell_type": "code",
      "metadata": {
        "id": "EcEl3mN2OvDE",
        "outputId": "44440266-7df9-4540-800c-9b202f6c0524"
      },
      "source": [
        "df.corr()"
      ],
      "execution_count": null,
      "outputs": [
        {
          "output_type": "execute_result",
          "data": {
            "text/html": [
              "<div>\n",
              "<style scoped>\n",
              "    .dataframe tbody tr th:only-of-type {\n",
              "        vertical-align: middle;\n",
              "    }\n",
              "\n",
              "    .dataframe tbody tr th {\n",
              "        vertical-align: top;\n",
              "    }\n",
              "\n",
              "    .dataframe thead th {\n",
              "        text-align: right;\n",
              "    }\n",
              "</style>\n",
              "<table border=\"1\" class=\"dataframe\">\n",
              "  <thead>\n",
              "    <tr style=\"text-align: right;\">\n",
              "      <th></th>\n",
              "      <th>age</th>\n",
              "      <th>sex</th>\n",
              "      <th>cp</th>\n",
              "      <th>trestbps</th>\n",
              "      <th>chol</th>\n",
              "      <th>fbs</th>\n",
              "      <th>restecg</th>\n",
              "      <th>thalch</th>\n",
              "      <th>exang</th>\n",
              "      <th>oldpeak</th>\n",
              "      <th>slope</th>\n",
              "      <th>ca</th>\n",
              "      <th>thal</th>\n",
              "      <th>num</th>\n",
              "    </tr>\n",
              "  </thead>\n",
              "  <tbody>\n",
              "    <tr>\n",
              "      <th>age</th>\n",
              "      <td>1.000000</td>\n",
              "      <td>-0.097542</td>\n",
              "      <td>0.104139</td>\n",
              "      <td>0.284946</td>\n",
              "      <td>0.208950</td>\n",
              "      <td>0.118530</td>\n",
              "      <td>0.148868</td>\n",
              "      <td>-0.393806</td>\n",
              "      <td>0.091661</td>\n",
              "      <td>0.203805</td>\n",
              "      <td>0.161770</td>\n",
              "      <td>0.350962</td>\n",
              "      <td>0.127564</td>\n",
              "      <td>0.222853</td>\n",
              "    </tr>\n",
              "    <tr>\n",
              "      <th>sex</th>\n",
              "      <td>-0.097542</td>\n",
              "      <td>1.000000</td>\n",
              "      <td>0.010084</td>\n",
              "      <td>-0.064456</td>\n",
              "      <td>-0.199915</td>\n",
              "      <td>0.047862</td>\n",
              "      <td>0.021647</td>\n",
              "      <td>-0.048663</td>\n",
              "      <td>0.146201</td>\n",
              "      <td>0.102173</td>\n",
              "      <td>0.037533</td>\n",
              "      <td>0.099503</td>\n",
              "      <td>0.373350</td>\n",
              "      <td>0.224469</td>\n",
              "    </tr>\n",
              "    <tr>\n",
              "      <th>cp</th>\n",
              "      <td>0.104139</td>\n",
              "      <td>0.010084</td>\n",
              "      <td>1.000000</td>\n",
              "      <td>-0.036077</td>\n",
              "      <td>0.072319</td>\n",
              "      <td>-0.039975</td>\n",
              "      <td>0.067505</td>\n",
              "      <td>-0.334422</td>\n",
              "      <td>0.384060</td>\n",
              "      <td>0.202277</td>\n",
              "      <td>0.152050</td>\n",
              "      <td>0.230724</td>\n",
              "      <td>0.261401</td>\n",
              "      <td>0.407075</td>\n",
              "    </tr>\n",
              "    <tr>\n",
              "      <th>trestbps</th>\n",
              "      <td>0.284946</td>\n",
              "      <td>-0.064456</td>\n",
              "      <td>-0.036077</td>\n",
              "      <td>1.000000</td>\n",
              "      <td>0.130120</td>\n",
              "      <td>0.175340</td>\n",
              "      <td>0.146560</td>\n",
              "      <td>-0.045351</td>\n",
              "      <td>0.064762</td>\n",
              "      <td>0.189171</td>\n",
              "      <td>0.117382</td>\n",
              "      <td>0.099012</td>\n",
              "      <td>0.133430</td>\n",
              "      <td>0.157754</td>\n",
              "    </tr>\n",
              "    <tr>\n",
              "      <th>chol</th>\n",
              "      <td>0.208950</td>\n",
              "      <td>-0.199915</td>\n",
              "      <td>0.072319</td>\n",
              "      <td>0.130120</td>\n",
              "      <td>1.000000</td>\n",
              "      <td>0.009841</td>\n",
              "      <td>0.171043</td>\n",
              "      <td>-0.003432</td>\n",
              "      <td>0.061310</td>\n",
              "      <td>0.046564</td>\n",
              "      <td>-0.004062</td>\n",
              "      <td>0.115783</td>\n",
              "      <td>0.015322</td>\n",
              "      <td>0.070909</td>\n",
              "    </tr>\n",
              "    <tr>\n",
              "      <th>fbs</th>\n",
              "      <td>0.118530</td>\n",
              "      <td>0.047862</td>\n",
              "      <td>-0.039975</td>\n",
              "      <td>0.175340</td>\n",
              "      <td>0.009841</td>\n",
              "      <td>1.000000</td>\n",
              "      <td>0.069564</td>\n",
              "      <td>-0.007854</td>\n",
              "      <td>0.025665</td>\n",
              "      <td>0.005747</td>\n",
              "      <td>0.059894</td>\n",
              "      <td>0.150120</td>\n",
              "      <td>0.062526</td>\n",
              "      <td>0.059186</td>\n",
              "    </tr>\n",
              "    <tr>\n",
              "      <th>restecg</th>\n",
              "      <td>0.148868</td>\n",
              "      <td>0.021647</td>\n",
              "      <td>0.067505</td>\n",
              "      <td>0.146560</td>\n",
              "      <td>0.171043</td>\n",
              "      <td>0.069564</td>\n",
              "      <td>1.000000</td>\n",
              "      <td>-0.083389</td>\n",
              "      <td>0.084867</td>\n",
              "      <td>0.114133</td>\n",
              "      <td>0.133946</td>\n",
              "      <td>0.123458</td>\n",
              "      <td>0.029545</td>\n",
              "      <td>0.183696</td>\n",
              "    </tr>\n",
              "    <tr>\n",
              "      <th>thalch</th>\n",
              "      <td>-0.393806</td>\n",
              "      <td>-0.048663</td>\n",
              "      <td>-0.334422</td>\n",
              "      <td>-0.045351</td>\n",
              "      <td>-0.003432</td>\n",
              "      <td>-0.007854</td>\n",
              "      <td>-0.083389</td>\n",
              "      <td>1.000000</td>\n",
              "      <td>-0.378103</td>\n",
              "      <td>-0.343085</td>\n",
              "      <td>-0.385601</td>\n",
              "      <td>-0.256735</td>\n",
              "      <td>-0.282065</td>\n",
              "      <td>-0.415040</td>\n",
              "    </tr>\n",
              "    <tr>\n",
              "      <th>exang</th>\n",
              "      <td>0.091661</td>\n",
              "      <td>0.146201</td>\n",
              "      <td>0.384060</td>\n",
              "      <td>0.064762</td>\n",
              "      <td>0.061310</td>\n",
              "      <td>0.025665</td>\n",
              "      <td>0.084867</td>\n",
              "      <td>-0.378103</td>\n",
              "      <td>1.000000</td>\n",
              "      <td>0.288223</td>\n",
              "      <td>0.257748</td>\n",
              "      <td>0.144474</td>\n",
              "      <td>0.321870</td>\n",
              "      <td>0.397057</td>\n",
              "    </tr>\n",
              "    <tr>\n",
              "      <th>oldpeak</th>\n",
              "      <td>0.203805</td>\n",
              "      <td>0.102173</td>\n",
              "      <td>0.202277</td>\n",
              "      <td>0.189171</td>\n",
              "      <td>0.046564</td>\n",
              "      <td>0.005747</td>\n",
              "      <td>0.114133</td>\n",
              "      <td>-0.343085</td>\n",
              "      <td>0.288223</td>\n",
              "      <td>1.000000</td>\n",
              "      <td>0.577537</td>\n",
              "      <td>0.280725</td>\n",
              "      <td>0.338019</td>\n",
              "      <td>0.504092</td>\n",
              "    </tr>\n",
              "    <tr>\n",
              "      <th>slope</th>\n",
              "      <td>0.161770</td>\n",
              "      <td>0.037533</td>\n",
              "      <td>0.152050</td>\n",
              "      <td>0.117382</td>\n",
              "      <td>-0.004062</td>\n",
              "      <td>0.059894</td>\n",
              "      <td>0.133946</td>\n",
              "      <td>-0.385601</td>\n",
              "      <td>0.257748</td>\n",
              "      <td>0.577537</td>\n",
              "      <td>1.000000</td>\n",
              "      <td>0.106145</td>\n",
              "      <td>0.281966</td>\n",
              "      <td>0.377957</td>\n",
              "    </tr>\n",
              "    <tr>\n",
              "      <th>ca</th>\n",
              "      <td>0.350962</td>\n",
              "      <td>0.099503</td>\n",
              "      <td>0.230724</td>\n",
              "      <td>0.099012</td>\n",
              "      <td>0.115783</td>\n",
              "      <td>0.150120</td>\n",
              "      <td>0.123458</td>\n",
              "      <td>-0.256735</td>\n",
              "      <td>0.144474</td>\n",
              "      <td>0.280725</td>\n",
              "      <td>0.106145</td>\n",
              "      <td>1.000000</td>\n",
              "      <td>0.252079</td>\n",
              "      <td>0.504878</td>\n",
              "    </tr>\n",
              "    <tr>\n",
              "      <th>thal</th>\n",
              "      <td>0.127564</td>\n",
              "      <td>0.373350</td>\n",
              "      <td>0.261401</td>\n",
              "      <td>0.133430</td>\n",
              "      <td>0.015322</td>\n",
              "      <td>0.062526</td>\n",
              "      <td>0.029545</td>\n",
              "      <td>-0.282065</td>\n",
              "      <td>0.321870</td>\n",
              "      <td>0.338019</td>\n",
              "      <td>0.281966</td>\n",
              "      <td>0.252079</td>\n",
              "      <td>1.000000</td>\n",
              "      <td>0.503548</td>\n",
              "    </tr>\n",
              "    <tr>\n",
              "      <th>num</th>\n",
              "      <td>0.222853</td>\n",
              "      <td>0.224469</td>\n",
              "      <td>0.407075</td>\n",
              "      <td>0.157754</td>\n",
              "      <td>0.070909</td>\n",
              "      <td>0.059186</td>\n",
              "      <td>0.183696</td>\n",
              "      <td>-0.415040</td>\n",
              "      <td>0.397057</td>\n",
              "      <td>0.504092</td>\n",
              "      <td>0.377957</td>\n",
              "      <td>0.504878</td>\n",
              "      <td>0.503548</td>\n",
              "      <td>1.000000</td>\n",
              "    </tr>\n",
              "  </tbody>\n",
              "</table>\n",
              "</div>"
            ],
            "text/plain": [
              "               age       sex        cp  trestbps      chol       fbs  \\\n",
              "age       1.000000 -0.097542  0.104139  0.284946  0.208950  0.118530   \n",
              "sex      -0.097542  1.000000  0.010084 -0.064456 -0.199915  0.047862   \n",
              "cp        0.104139  0.010084  1.000000 -0.036077  0.072319 -0.039975   \n",
              "trestbps  0.284946 -0.064456 -0.036077  1.000000  0.130120  0.175340   \n",
              "chol      0.208950 -0.199915  0.072319  0.130120  1.000000  0.009841   \n",
              "fbs       0.118530  0.047862 -0.039975  0.175340  0.009841  1.000000   \n",
              "restecg   0.148868  0.021647  0.067505  0.146560  0.171043  0.069564   \n",
              "thalch   -0.393806 -0.048663 -0.334422 -0.045351 -0.003432 -0.007854   \n",
              "exang     0.091661  0.146201  0.384060  0.064762  0.061310  0.025665   \n",
              "oldpeak   0.203805  0.102173  0.202277  0.189171  0.046564  0.005747   \n",
              "slope     0.161770  0.037533  0.152050  0.117382 -0.004062  0.059894   \n",
              "ca        0.350962  0.099503  0.230724  0.099012  0.115783  0.150120   \n",
              "thal      0.127564  0.373350  0.261401  0.133430  0.015322  0.062526   \n",
              "num       0.222853  0.224469  0.407075  0.157754  0.070909  0.059186   \n",
              "\n",
              "           restecg    thalch     exang   oldpeak     slope        ca  \\\n",
              "age       0.148868 -0.393806  0.091661  0.203805  0.161770  0.350962   \n",
              "sex       0.021647 -0.048663  0.146201  0.102173  0.037533  0.099503   \n",
              "cp        0.067505 -0.334422  0.384060  0.202277  0.152050  0.230724   \n",
              "trestbps  0.146560 -0.045351  0.064762  0.189171  0.117382  0.099012   \n",
              "chol      0.171043 -0.003432  0.061310  0.046564 -0.004062  0.115783   \n",
              "fbs       0.069564 -0.007854  0.025665  0.005747  0.059894  0.150120   \n",
              "restecg   1.000000 -0.083389  0.084867  0.114133  0.133946  0.123458   \n",
              "thalch   -0.083389  1.000000 -0.378103 -0.343085 -0.385601 -0.256735   \n",
              "exang     0.084867 -0.378103  1.000000  0.288223  0.257748  0.144474   \n",
              "oldpeak   0.114133 -0.343085  0.288223  1.000000  0.577537  0.280725   \n",
              "slope     0.133946 -0.385601  0.257748  0.577537  1.000000  0.106145   \n",
              "ca        0.123458 -0.256735  0.144474  0.280725  0.106145  1.000000   \n",
              "thal      0.029545 -0.282065  0.321870  0.338019  0.281966  0.252079   \n",
              "num       0.183696 -0.415040  0.397057  0.504092  0.377957  0.504878   \n",
              "\n",
              "              thal       num  \n",
              "age       0.127564  0.222853  \n",
              "sex       0.373350  0.224469  \n",
              "cp        0.261401  0.407075  \n",
              "trestbps  0.133430  0.157754  \n",
              "chol      0.015322  0.070909  \n",
              "fbs       0.062526  0.059186  \n",
              "restecg   0.029545  0.183696  \n",
              "thalch   -0.282065 -0.415040  \n",
              "exang     0.321870  0.397057  \n",
              "oldpeak   0.338019  0.504092  \n",
              "slope     0.281966  0.377957  \n",
              "ca        0.252079  0.504878  \n",
              "thal      1.000000  0.503548  \n",
              "num       0.503548  1.000000  "
            ]
          },
          "metadata": {
            "tags": []
          },
          "execution_count": 253
        }
      ]
    },
    {
      "cell_type": "code",
      "metadata": {
        "scrolled": true,
        "id": "y8qIwJdvOvDF",
        "outputId": "da84646b-88c2-4397-dcd2-de387c27d90b"
      },
      "source": [
        "plt.figure(figsize=(20,20))\n",
        "sns.heatmap(df.corr(),annot=True,cmap='tab20',vmin=0,vmax=1)"
      ],
      "execution_count": null,
      "outputs": [
        {
          "output_type": "execute_result",
          "data": {
            "text/plain": [
              "<matplotlib.axes._subplots.AxesSubplot at 0x15adf67f048>"
            ]
          },
          "metadata": {
            "tags": []
          },
          "execution_count": 254
        },
        {
          "output_type": "display_data",
          "data": {
            "image/png": "[encoded data removed]",
            "text/plain": [
              "<Figure size 1440x1440 with 2 Axes>"
            ]
          },
          "metadata": {
            "tags": [],
            "needs_background": "light"
          }
        }
      ]
    },
    {
      "cell_type": "markdown",
      "metadata": {
        "id": "y1zpb68JOvDF"
      },
      "source": [
        "# pre-processing"
      ]
    },
    {
      "cell_type": "code",
      "metadata": {
        "id": "feGxyMt5OvDF"
      },
      "source": [
        "import warnings \n",
        "warnings.filterwarnings('ignore')"
      ],
      "execution_count": null,
      "outputs": []
    },
    {
      "cell_type": "markdown",
      "metadata": {
        "id": "zYYNAc1VOvDF"
      },
      "source": [
        "## histogram plot"
      ]
    },
    {
      "cell_type": "code",
      "metadata": {
        "id": "6PrQEdZvOvDG",
        "outputId": "ed22bf37-da7c-4942-d827-2100bf818b88"
      },
      "source": [
        "a = df.hist(figsize=(20,20) , bins = 10)"
      ],
      "execution_count": null,
      "outputs": [
        {
          "output_type": "display_data",
          "data": {
            "image/png": "[encoded data removed]",
            "text/plain": [
              "<Figure size 1440x1440 with 16 Axes>"
            ]
          },
          "metadata": {
            "tags": [],
            "needs_background": "light"
          }
        }
      ]
    },
    {
      "cell_type": "markdown",
      "metadata": {
        "id": "Lkq32j2vOvDG"
      },
      "source": [
        "##  Seaborn Distplot"
      ]
    },
    {
      "cell_type": "code",
      "metadata": {
        "scrolled": true,
        "id": "AhHeNn6UOvDG",
        "outputId": "6bca02c3-8028-4b6f-f67c-70273a510789"
      },
      "source": [
        "import seaborn as sns\n",
        "a = df.columns\n",
        "for i in a:\n",
        "    sns.distplot(a = df[i])\n",
        "    plt.show()"
      ],
      "execution_count": null,
      "outputs": [
        {
          "output_type": "display_data",
          "data": {
            "image/png": "[encoded data removed]",
            "text/plain": [
              "<Figure size 432x288 with 1 Axes>"
            ]
          },
          "metadata": {
            "tags": [],
            "needs_background": "light"
          }
        },
        {
          "output_type": "display_data",
          "data": {
            "image/png": "[encoded data removed]",
            "text/plain": [
              "<Figure size 432x288 with 1 Axes>"
            ]
          },
          "metadata": {
            "tags": [],
            "needs_background": "light"
          }
        },
        {
          "output_type": "display_data",
          "data": {
            "image/png": "[encoded data removed]",
            "text/plain": [
              "<Figure size 432x288 with 1 Axes>"
            ]
          },
          "metadata": {
            "tags": [],
            "needs_background": "light"
          }
        },
        {
          "output_type": "display_data",
          "data": {
            "image/png": "[encoded data removed]",
            "text/plain": [
              "<Figure size 432x288 with 1 Axes>"
            ]
          },
          "metadata": {
            "tags": [],
            "needs_background": "light"
          }
        },
        {
          "output_type": "display_data",
          "data": {
            "image/png": "[encoded data removed]",
            "text/plain": [
              "<Figure size 432x288 with 1 Axes>"
            ]
          },
          "metadata": {
            "tags": [],
            "needs_background": "light"
          }
        },
        {
          "output_type": "display_data",
          "data": {
            "image/png": "[encoded data removed]",
            "text/plain": [
              "<Figure size 432x288 with 1 Axes>"
            ]
          },
          "metadata": {
            "tags": [],
            "needs_background": "light"
          }
        },
        {
          "output_type": "display_data",
          "data": {
            "image/png": "[encoded data removed]",
            "text/plain": [
              "<Figure size 432x288 with 1 Axes>"
            ]
          },
          "metadata": {
            "tags": [],
            "needs_background": "light"
          }
        },
        {
          "output_type": "display_data",
          "data": {
            "image/png": "[encoded data removed]",
            "text/plain": [
              "<Figure size 432x288 with 1 Axes>"
            ]
          },
          "metadata": {
            "tags": [],
            "needs_background": "light"
          }
        },
        {
          "output_type": "display_data",
          "data": {
            "image/png": "[encoded data removed]",
            "text/plain": [
              "<Figure size 432x288 with 1 Axes>"
            ]
          },
          "metadata": {
            "tags": [],
            "needs_background": "light"
          }
        },
        {
          "output_type": "display_data",
          "data": {
            "image/png": "[encoded data removed]",
            "text/plain": [
              "<Figure size 432x288 with 1 Axes>"
            ]
          },
          "metadata": {
            "tags": [],
            "needs_background": "light"
          }
        },
        {
          "output_type": "display_data",
          "data": {
            "image/png": "[encoded data removed]",
            "text/plain": [
              "<Figure size 432x288 with 1 Axes>"
            ]
          },
          "metadata": {
            "tags": [],
            "needs_background": "light"
          }
        },
        {
          "output_type": "display_data",
          "data": {
            "image/png": "[encoded data removed]",
            "text/plain": [
              "<Figure size 432x288 with 1 Axes>"
            ]
          },
          "metadata": {
            "tags": [],
            "needs_background": "light"
          }
        },
        {
          "output_type": "display_data",
          "data": {
            "image/png": "[encoded data removed]",
            "text/plain": [
              "<Figure size 432x288 with 1 Axes>"
            ]
          },
          "metadata": {
            "tags": [],
            "needs_background": "light"
          }
        },
        {
          "output_type": "display_data",
          "data": {
            "image/png": "[encoded data removed]",
            "text/plain": [
              "<Figure size 432x288 with 1 Axes>"
            ]
          },
          "metadata": {
            "tags": [],
            "needs_background": "light"
          }
        }
      ]
    },
    {
      "cell_type": "code",
      "metadata": {
        "id": "-1T83GY3OvDH"
      },
      "source": [
        "X= df[['age', 'sex', 'cp', 'fbs','chol','trestbps', 'restecg', 'thalch','exang', 'oldpeak', 'slope', 'ca', 'thal']].values"
      ],
      "execution_count": null,
      "outputs": []
    },
    {
      "cell_type": "code",
      "metadata": {
        "id": "auqeTGCVOvDH"
      },
      "source": [
        "y=df['num']"
      ],
      "execution_count": null,
      "outputs": []
    },
    {
      "cell_type": "markdown",
      "metadata": {
        "id": "c4Fg6gFnOvDH"
      },
      "source": [
        "## Feature Selection"
      ]
    },
    {
      "cell_type": "code",
      "metadata": {
        "id": "pcMWMFQ-OvDH"
      },
      "source": [
        "from sklearn.feature_selection import SelectKBest\n",
        "from sklearn.feature_selection import chi2 "
      ],
      "execution_count": null,
      "outputs": []
    },
    {
      "cell_type": "code",
      "metadata": {
        "id": "JRdkF2e_OvDH",
        "outputId": "3ce48dcf-5274-45f3-b58c-69cb9e93e229"
      },
      "source": [
        "test = SelectKBest(score_func=chi2, k=5)\n",
        "fit = test.fit(X, y)\n",
        "\n",
        "# Summarize scores\n",
        "np.set_printoptions(precision=5)\n",
        "print(fit.scores_)\n",
        "\n",
        "features = fit.transform(X)\n",
        "# Summarize selected features\n",
        "print(features[0:10,:])"
      ],
      "execution_count": null,
      "outputs": [
        {
          "output_type": "stream",
          "text": [
            "[ 27.92288   7.49922  16.88118   6.65822  37.70009  18.87026  14.05755\n",
            " 215.71334  41.53448 101.99752  10.5422  102.50548  68.97381]\n",
            "[[150.    0.    2.3   0.    6. ]\n",
            " [108.    1.    1.5   3.    3. ]\n",
            " [129.    1.    2.6   2.    7. ]\n",
            " [187.    0.    3.5   0.    3. ]\n",
            " [172.    0.    1.4   0.    3. ]\n",
            " [178.    0.    0.8   0.    3. ]\n",
            " [160.    0.    3.6   2.    3. ]\n",
            " [163.    1.    0.6   0.    3. ]\n",
            " [147.    0.    1.4   1.    7. ]\n",
            " [155.    1.    3.1   0.    7. ]]\n"
          ],
          "name": "stdout"
        }
      ]
    },
    {
      "cell_type": "markdown",
      "metadata": {
        "id": "-JwlHLcuOvDI"
      },
      "source": [
        "## Normalization"
      ]
    },
    {
      "cell_type": "code",
      "metadata": {
        "id": "5u1r3RUsOvDI"
      },
      "source": [
        "from sklearn import preprocessing\n",
        "\n",
        "X = np.asarray(X)\n",
        "  \n",
        "X = preprocessing.StandardScaler().fit(X).transform(X)"
      ],
      "execution_count": null,
      "outputs": []
    },
    {
      "cell_type": "code",
      "metadata": {
        "id": "4n4ZNfqDOvDI",
        "outputId": "90cdb7be-eaaf-4c6f-842b-081fd84301ab"
      },
      "source": [
        "X"
      ],
      "execution_count": null,
      "outputs": [
        {
          "output_type": "execute_result",
          "data": {
            "text/plain": [
              "array([[ 0.94873,  0.6862 , -2.25177, ...,  2.27458, -0.72427,  0.65528],\n",
              "       [ 1.392  ,  0.6862 ,  0.87799, ...,  0.64911,  2.45623, -0.89589],\n",
              "       [ 1.392  ,  0.6862 ,  0.87799, ...,  0.64911,  1.39606,  1.17234],\n",
              "       ...,\n",
              "       [ 0.28381,  0.6862 ,  0.87799, ...,  0.64911,  0.33589,  1.17234],\n",
              "       [ 0.28381, -1.4573 , -1.20852, ...,  0.64911,  0.33589, -0.89589],\n",
              "       [-1.82175,  0.6862 , -0.16527, ..., -0.97635, -0.72427, -0.89589]])"
            ]
          },
          "metadata": {
            "tags": []
          },
          "execution_count": 263
        }
      ]
    },
    {
      "cell_type": "code",
      "metadata": {
        "id": "BFFMer4_OvDI"
      },
      "source": [
        "y=df['num']"
      ],
      "execution_count": null,
      "outputs": []
    },
    {
      "cell_type": "code",
      "metadata": {
        "id": "J5Ff8AE1OvDI",
        "outputId": "2f9cf13b-bab8-4f3d-9a7c-dac8ed3de2f3"
      },
      "source": [
        "y"
      ],
      "execution_count": null,
      "outputs": [
        {
          "output_type": "execute_result",
          "data": {
            "text/plain": [
              "0      0\n",
              "1      2\n",
              "2      1\n",
              "3      0\n",
              "4      0\n",
              "      ..\n",
              "298    1\n",
              "299    2\n",
              "300    3\n",
              "301    1\n",
              "302    0\n",
              "Name: num, Length: 303, dtype: int64"
            ]
          },
          "metadata": {
            "tags": []
          },
          "execution_count": 265
        }
      ]
    },
    {
      "cell_type": "code",
      "metadata": {
        "id": "BC9hB_KgOvDJ",
        "outputId": "114718bc-f517-4bd9-d3c4-c0a10ba524d7"
      },
      "source": [
        "y.unique()"
      ],
      "execution_count": null,
      "outputs": [
        {
          "output_type": "execute_result",
          "data": {
            "text/plain": [
              "array([0, 2, 1, 3, 4], dtype=int64)"
            ]
          },
          "metadata": {
            "tags": []
          },
          "execution_count": 266
        }
      ]
    },
    {
      "cell_type": "code",
      "metadata": {
        "id": "w5RmJ_RPOvDJ",
        "outputId": "99ccddf2-e3a8-463c-e649-9ac67097008d"
      },
      "source": [
        "y.value_counts()"
      ],
      "execution_count": null,
      "outputs": [
        {
          "output_type": "execute_result",
          "data": {
            "text/plain": [
              "0    164\n",
              "1     55\n",
              "2     36\n",
              "3     35\n",
              "4     13\n",
              "Name: num, dtype: int64"
            ]
          },
          "metadata": {
            "tags": []
          },
          "execution_count": 267
        }
      ]
    },
    {
      "cell_type": "markdown",
      "metadata": {
        "id": "slAvjG2hOvDJ"
      },
      "source": [
        "# Splitting dataset"
      ]
    },
    {
      "cell_type": "code",
      "metadata": {
        "id": "LUMX998SOvDJ"
      },
      "source": [
        "from sklearn.model_selection import train_test_split\n",
        "X_train , X_test , y_train , y_test = train_test_split(X , y , test_size = 0.2 , random_state = 0)"
      ],
      "execution_count": null,
      "outputs": []
    },
    {
      "cell_type": "code",
      "metadata": {
        "id": "fr9Ppj94OvDJ",
        "outputId": "3299bbb5-f2e1-4a52-cc05-4db3ee9783e8"
      },
      "source": [
        "X_train.shape"
      ],
      "execution_count": null,
      "outputs": [
        {
          "output_type": "execute_result",
          "data": {
            "text/plain": [
              "(242, 13)"
            ]
          },
          "metadata": {
            "tags": []
          },
          "execution_count": 269
        }
      ]
    },
    {
      "cell_type": "code",
      "metadata": {
        "id": "ZU5fhlbJOvDK",
        "outputId": "66d48609-1d69-4bda-aab5-947df6d18243"
      },
      "source": [
        "X_test.shape"
      ],
      "execution_count": null,
      "outputs": [
        {
          "output_type": "execute_result",
          "data": {
            "text/plain": [
              "(61, 13)"
            ]
          },
          "metadata": {
            "tags": []
          },
          "execution_count": 270
        }
      ]
    },
    {
      "cell_type": "code",
      "metadata": {
        "id": "pcPI55LbOvDK",
        "outputId": "f630d72b-3219-47ab-e245-ba257aecc3a0"
      },
      "source": [
        "X_train"
      ],
      "execution_count": null,
      "outputs": [
        {
          "output_type": "execute_result",
          "data": {
            "text/plain": [
              "array([[-1.15683,  0.6862 ,  0.87799, ..., -0.97635,  0.33589, -0.89589],\n",
              "       [ 0.06218,  0.6862 ,  0.87799, ...,  0.64911,  0.33589,  1.17234],\n",
              "       [-0.04864,  0.6862 ,  0.87799, ...,  0.64911,  0.33589,  1.17234],\n",
              "       ...,\n",
              "       [-2.1542 , -1.4573 ,  0.87799, ..., -0.97635, -0.72427, -0.89589],\n",
              "       [-0.49192,  0.6862 ,  0.87799, ...,  0.64911, -0.72427,  1.17234],\n",
              "       [ 0.50545, -1.4573 ,  0.87799, ...,  0.64911, -0.72427, -0.89589]])"
            ]
          },
          "metadata": {
            "tags": []
          },
          "execution_count": 271
        }
      ]
    },
    {
      "cell_type": "code",
      "metadata": {
        "id": "KLck_Y8IOvDK",
        "outputId": "559b4f7a-9790-46c9-f69c-96aa628b7fca"
      },
      "source": [
        "y_train.shape"
      ],
      "execution_count": null,
      "outputs": [
        {
          "output_type": "execute_result",
          "data": {
            "text/plain": [
              "(242,)"
            ]
          },
          "metadata": {
            "tags": []
          },
          "execution_count": 272
        }
      ]
    },
    {
      "cell_type": "code",
      "metadata": {
        "scrolled": true,
        "id": "haoo1ePYOvDK",
        "outputId": "f40c1ac5-08fe-4d10-8b15-64b70a12b998"
      },
      "source": [
        "y_test"
      ],
      "execution_count": null,
      "outputs": [
        {
          "output_type": "execute_result",
          "data": {
            "text/plain": [
              "225    0\n",
              "152    0\n",
              "228    3\n",
              "201    0\n",
              "52     2\n",
              "      ..\n",
              "146    4\n",
              "302    0\n",
              "26     0\n",
              "108    2\n",
              "89     0\n",
              "Name: num, Length: 61, dtype: int64"
            ]
          },
          "metadata": {
            "tags": []
          },
          "execution_count": 273
        }
      ]
    },
    {
      "cell_type": "markdown",
      "metadata": {
        "id": "8UgqeWk2OvDL"
      },
      "source": [
        "# Algorithms"
      ]
    },
    {
      "cell_type": "code",
      "metadata": {
        "id": "opjoF32AOvDL"
      },
      "source": [
        "from sklearn.metrics import confusion_matrix\n",
        "from sklearn.metrics import accuracy_score ,classification_report , confusion_matrix\n",
        "import xgboost as xgb\n",
        "\n",
        "# machine learning algorithms\n",
        "from sklearn.ensemble import RandomForestClassifier,AdaBoostClassifier\n",
        "from sklearn.tree import DecisionTreeClassifier\n",
        "from sklearn.neighbors import KNeighborsClassifier\n",
        "from sklearn.svm import SVC \n",
        "from sklearn.naive_bayes import GaussianNB\n",
        "from sklearn.ensemble import GradientBoostingClassifier\n",
        "from xgboost import XGBClassifier\n",
        "from sklearn.linear_model import LogisticRegression"
      ],
      "execution_count": null,
      "outputs": []
    },
    {
      "cell_type": "markdown",
      "metadata": {
        "id": "1_nrYukCOvDL"
      },
      "source": [
        "## KNN\n"
      ]
    },
    {
      "cell_type": "code",
      "metadata": {
        "id": "25hfHewFOvDL"
      },
      "source": [
        "def knn_classifier(X_train, X_test, y_train, y_test):\n",
        "    classifier_knn = KNeighborsClassifier(metric = 'minkowski', p = 5)\n",
        "    classifier_knn.fit(X_train, y_train)\n",
        "\n",
        "    y_pred = classifier_knn.predict(X_test)\n",
        "\n",
        "    cm = confusion_matrix(y_test, y_pred)\n",
        "    \n",
        "    return print(f\"Train score : {classifier_knn.score(X_train, y_train)}\\nTest score : {classifier_knn.score(X_test, y_test)}\\nAccuracy score:{accuracy_score(y_test,y_pred)}\\nCR:{classification_report(y_test,y_pred)}\")"
      ],
      "execution_count": null,
      "outputs": []
    },
    {
      "cell_type": "markdown",
      "metadata": {
        "id": "DYoqKSdUOvDL"
      },
      "source": [
        "## Decision Tree"
      ]
    },
    {
      "cell_type": "code",
      "metadata": {
        "scrolled": false,
        "id": "dwRC1d8XOvDM"
      },
      "source": [
        "def tree_classifier(X_train, X_test, y_train, y_test):\n",
        "    \n",
        "    classifier_tree = DecisionTreeClassifier(criterion = 'entropy', random_state = 0)\n",
        "    classifier_tree.fit(X_train, y_train)\n",
        "\n",
        "    y_pred = classifier_tree.predict(X_test)\n",
        "\n",
        "    cm = confusion_matrix(y_test, y_pred)\n",
        "\n",
        "    return print(f\"Train score : {classifier_tree.score(X_train, y_train)}\\nTest score : {classifier_tree.score(X_test, y_test)}\\nAccuracy score :{accuracy_score(y_test, y_pred)}\\nCR:{classification_report(y_test,y_pred)}\")"
      ],
      "execution_count": null,
      "outputs": []
    },
    {
      "cell_type": "markdown",
      "metadata": {
        "id": "lY8dlEFaOvDM"
      },
      "source": [
        "## Support Vector Machine"
      ]
    },
    {
      "cell_type": "code",
      "metadata": {
        "id": "oneFEAgbOvDM"
      },
      "source": [
        "def svm_classifier(X_train, X_test, y_train, y_test):\n",
        "    \n",
        "    classifier_svm = SVC(kernel = 'rbf', random_state = 0)\n",
        "    classifier_svm.fit(X_train, y_train)\n",
        "\n",
        "    y_pred = classifier_svm.predict(X_test)\n",
        "\n",
        "    cm = confusion_matrix(y_test, y_pred)\n",
        "\n",
        "    return print(f\"Train score : {classifier_svm.score(X_train, y_train)}\\nTest score : {classifier_svm.score(X_test, y_test)}\\nAccuracy score :{accuracy_score(y_test, y_pred)}\\nCR:{classification_report(y_test,y_pred)}\")"
      ],
      "execution_count": null,
      "outputs": []
    },
    {
      "cell_type": "markdown",
      "metadata": {
        "id": "281WM4nzOvDM"
      },
      "source": [
        "## Random Forest"
      ]
    },
    {
      "cell_type": "code",
      "metadata": {
        "id": "qEIDqPX6OvDM"
      },
      "source": [
        "def forest_classifier(X_train, X_test, y_train, y_test):\n",
        "    classifier_forest = RandomForestClassifier(criterion = 'entropy', random_state = 0)\n",
        "    classifier_forest.fit(X_train, y_train)\n",
        "\n",
        "    y_pred = classifier_forest.predict(X_test)\n",
        "\n",
        "    cm = confusion_matrix(y_test, y_pred)\n",
        "\n",
        "    return print(f\"Train score : {classifier_forest.score(X_train, y_train)}\\nTest score : {classifier_forest.score(X_test, y_test)}\\nAccuracy score :{accuracy_score(y_test, y_pred)}\\nCR:{classification_report(y_test,y_pred)}\")"
      ],
      "execution_count": null,
      "outputs": []
    },
    {
      "cell_type": "markdown",
      "metadata": {
        "id": "_RxICTm8OvDN"
      },
      "source": [
        "## Naive Bayes"
      ]
    },
    {
      "cell_type": "code",
      "metadata": {
        "id": "-CE8-74FOvDN"
      },
      "source": [
        "def naive_classifier(X_train, X_test, y_train, y_test):\n",
        "    md = GaussianNB()\n",
        "    md.fit (X_train,y_train)\n",
        "    \n",
        "    y_pred = md.predict (X_test)\n",
        "    \n",
        "    cm = confusion_matrix(y_test, y_pred)\n",
        "    \n",
        "    return print(f\"Train score : {md.score(X_train, y_train)}\\nTest score : {md.score(X_test, y_test)}\\nAccuracy score :{accuracy_score(y_test, y_pred)}\\nCR:{classification_report(y_test,y_pred)}\")"
      ],
      "execution_count": null,
      "outputs": []
    },
    {
      "cell_type": "markdown",
      "metadata": {
        "id": "RO2fjpcNOvDO"
      },
      "source": [
        "## Gradient Boosting"
      ]
    },
    {
      "cell_type": "code",
      "metadata": {
        "id": "--qOuqTKOvDP"
      },
      "source": [
        "def gradientboosting(X_train, X_test, y_train, y_test):\n",
        "    \n",
        "    gradient_boosting= GradientBoostingClassifier(n_estimators=100, random_state = 0)\n",
        "    gradient_boosting.fit(X_train, y_train)\n",
        "\n",
        "    y_pred =gradient_boosting.predict(X_test)\n",
        "\n",
        "    cm = confusion_matrix(y_test, y_pred)\n",
        "\n",
        "    return print(f\"Train score : {gradient_boosting.score(X_train, y_train)}\\nTest score : {gradient_boosting.score(X_test, y_test)}\\nAccuracy score :{accuracy_score(y_test, y_pred)}\\nCR:{classification_report(y_test,y_pred)}\")"
      ],
      "execution_count": null,
      "outputs": []
    },
    {
      "cell_type": "markdown",
      "metadata": {
        "id": "t5las1KeOvDP"
      },
      "source": [
        "## Adaboosting"
      ]
    },
    {
      "cell_type": "code",
      "metadata": {
        "id": "EbK9R02COvDP"
      },
      "source": [
        "def Adaboost(X_train, X_test, y_train, y_test):\n",
        "    adaboost = AdaBoostClassifier()\n",
        "    adaboost.fit (X_train,y_train)\n",
        "    \n",
        "    y_pred = adaboost.predict (X_test)\n",
        "    \n",
        "    cm = confusion_matrix(y_test, y_pred)\n",
        "    \n",
        "    return print(f\"Train score : {adaboost.score(X_train, y_train)}\\nTest score : {adaboost.score(X_test, y_test)}\\nAccuracy score :{accuracy_score(y_test, y_pred)}\\nCR:{classification_report(y_test,y_pred)}\")"
      ],
      "execution_count": null,
      "outputs": []
    },
    {
      "cell_type": "markdown",
      "metadata": {
        "id": "4x1ajcn2OvDQ"
      },
      "source": [
        "## Xgboost"
      ]
    },
    {
      "cell_type": "code",
      "metadata": {
        "id": "CNz3dyK9OvDQ"
      },
      "source": [
        "def xgboost(X_train, X_test, y_train, y_test):\n",
        "    xg= XGBClassifier(n_estimators= 500)\n",
        "    xg.fit(X_train, y_train)\n",
        "    \n",
        "    y_pred = xg.predict(X_test)\n",
        "   \n",
        "    cm = confusion_matrix(y_test, y_pred)\n",
        "    \n",
        "    return print(f\"Train score : {xg.score(X_train, y_train)}\\nTest score : {xg.score(X_test, y_test)}\\nAccuracy score :{accuracy_score(y_test, y_pred)}\\nCR:{classification_report(y_test,y_pred)}\")"
      ],
      "execution_count": null,
      "outputs": []
    },
    {
      "cell_type": "markdown",
      "metadata": {
        "id": "PlTfG0nJOvDQ"
      },
      "source": [
        "## Logistic Regression"
      ]
    },
    {
      "cell_type": "code",
      "metadata": {
        "id": "5HP2LezXOvDQ"
      },
      "source": [
        "def lgregression(X_train, X_test, y_train, y_test):\n",
        "    \n",
        "    classifier = LogisticRegression(penalty='l2', random_state=0)\n",
        "    classifier.fit(X_train, y_train)\n",
        "\n",
        "    y_pred = classifier.predict(X_test)\n",
        "\n",
        "    cm_test = confusion_matrix(y_pred, y_test)\n",
        "\n",
        "    return print(f\"Train score : {classifier.score(X_train, y_train)}\\nTest score : {classifier.score(X_test, y_test)}\\nAccuracy score :{accuracy_score(y_test, y_pred)}\\nCR:{classification_report(y_test,y_pred)}\")"
      ],
      "execution_count": null,
      "outputs": []
    },
    {
      "cell_type": "code",
      "metadata": {
        "id": "gwsFXngTOvDQ"
      },
      "source": [
        "def print_score(X_train, X_test, y_train, y_test):\n",
        "    print(\"KNN:\\n\")\n",
        "    knn_classifier(X_train, X_test, y_train, y_test)\n",
        "\n",
        "    print(\"-\"*100)\n",
        "    print()\n",
        "\n",
        "    print(\"Decision Tree:\\n\")\n",
        "    tree_classifier(X_train, X_test, y_train, y_test)\n",
        "\n",
        "    print(\"-\"*100)\n",
        "    print()\n",
        "\n",
        "    print(\"SVM:\\n\")\n",
        "    svm_classifier(X_train, X_test, y_train, y_test)\n",
        "\n",
        "    print(\"-\"*100)\n",
        "    print()\n",
        "\n",
        "    print(\"Random Forest:\\n\")\n",
        "    forest_classifier(X_train, X_test, y_train, y_test)\n",
        "    \n",
        "    print(\"-\"*100)\n",
        "    print()\n",
        "    \n",
        "    print(\"Naive:\\n\")\n",
        "    naive_classifier(X_train, X_test, y_train, y_test)\n",
        "    \n",
        "    print(\"-\"*100)\n",
        "    print()\n",
        "    \n",
        "    print(\"Gradient Boosting:\\n\")\n",
        "    gradientboosting(X_train, X_test, y_train, y_test)\n",
        "    \n",
        "    print(\"-\"*100)\n",
        "    print()\n",
        "    \n",
        "    print(\"AdaBoosting:\\n\")\n",
        "    Adaboost(X_train, X_test, y_train, y_test)\n",
        "    \n",
        "    print(\"-\"*100)\n",
        "    print()\n",
        "    \n",
        "    print(\"XGboost:\\n\")\n",
        "    xgboost(X_train, X_test, y_train, y_test)\n",
        "    \n",
        "    print(\"-\"*100)\n",
        "    print()\n",
        "    \n",
        "    print(\"logistic regression:\\n\")\n",
        "    lgregression(X_train, X_test, y_train, y_test)\n"
      ],
      "execution_count": null,
      "outputs": []
    },
    {
      "cell_type": "code",
      "metadata": {
        "scrolled": false,
        "id": "qkN5RT2qOvDR",
        "outputId": "b2dfc20d-610d-4eb8-a5a4-8410b591855c"
      },
      "source": [
        "print_score(X_train, X_test, y_train, y_test)"
      ],
      "execution_count": null,
      "outputs": [
        {
          "output_type": "stream",
          "text": [
            "KNN:\n",
            "\n",
            "Train score : 0.6818181818181818\n",
            "Test score : 0.6721311475409836\n",
            "Accuracy score:0.6721311475409836\n",
            "CR:              precision    recall  f1-score   support\n",
            "\n",
            "           0       0.76      0.91      0.83        35\n",
            "           1       0.50      0.38      0.43        13\n",
            "           2       0.43      0.50      0.46         6\n",
            "           3       0.50      0.25      0.33         4\n",
            "           4       0.00      0.00      0.00         3\n",
            "\n",
            "    accuracy                           0.67        61\n",
            "   macro avg       0.44      0.41      0.41        61\n",
            "weighted avg       0.62      0.67      0.64        61\n",
            "\n",
            "----------------------------------------------------------------------------------------------------\n",
            "\n",
            "Decision Tree:\n",
            "\n",
            "Train score : 1.0\n",
            "Test score : 0.5409836065573771\n",
            "Accuracy score :0.5409836065573771\n",
            "CR:              precision    recall  f1-score   support\n",
            "\n",
            "           0       0.77      0.77      0.77        35\n",
            "           1       0.29      0.31      0.30        13\n",
            "           2       0.20      0.17      0.18         6\n",
            "           3       0.14      0.25      0.18         4\n",
            "           4       0.00      0.00      0.00         3\n",
            "\n",
            "    accuracy                           0.54        61\n",
            "   macro avg       0.28      0.30      0.29        61\n",
            "weighted avg       0.53      0.54      0.54        61\n",
            "\n",
            "----------------------------------------------------------------------------------------------------\n",
            "\n",
            "SVM:\n",
            "\n",
            "Train score : 0.7603305785123967\n",
            "Test score : 0.5901639344262295\n",
            "Accuracy score :0.5901639344262295\n",
            "CR:              precision    recall  f1-score   support\n",
            "\n",
            "           0       0.70      0.89      0.78        35\n",
            "           1       0.43      0.23      0.30        13\n",
            "           2       0.20      0.17      0.18         6\n",
            "           3       0.20      0.25      0.22         4\n",
            "           4       0.00      0.00      0.00         3\n",
            "\n",
            "    accuracy                           0.59        61\n",
            "   macro avg       0.31      0.31      0.30        61\n",
            "weighted avg       0.53      0.59      0.55        61\n",
            "\n",
            "----------------------------------------------------------------------------------------------------\n",
            "\n",
            "Random Forest:\n",
            "\n",
            "Train score : 1.0\n",
            "Test score : 0.5901639344262295\n",
            "Accuracy score :0.5901639344262295\n",
            "CR:              precision    recall  f1-score   support\n",
            "\n",
            "           0       0.72      0.89      0.79        35\n",
            "           1       0.33      0.23      0.27        13\n",
            "           2       0.20      0.17      0.18         6\n",
            "           3       0.25      0.25      0.25         4\n",
            "           4       0.00      0.00      0.00         3\n",
            "\n",
            "    accuracy                           0.59        61\n",
            "   macro avg       0.30      0.31      0.30        61\n",
            "weighted avg       0.52      0.59      0.55        61\n",
            "\n",
            "----------------------------------------------------------------------------------------------------\n",
            "\n",
            "Naive:\n",
            "\n",
            "Train score : 0.4132231404958678\n",
            "Test score : 0.39344262295081966\n",
            "Accuracy score :0.39344262295081966\n",
            "CR:              precision    recall  f1-score   support\n",
            "\n",
            "           0       0.81      0.60      0.69        35\n",
            "           1       0.00      0.00      0.00        13\n",
            "           2       0.50      0.17      0.25         6\n",
            "           3       0.00      0.00      0.00         4\n",
            "           4       0.06      0.67      0.11         3\n",
            "\n",
            "    accuracy                           0.39        61\n",
            "   macro avg       0.27      0.29      0.21        61\n",
            "weighted avg       0.52      0.39      0.43        61\n",
            "\n",
            "----------------------------------------------------------------------------------------------------\n",
            "\n",
            "Gradient Boosting:\n",
            "\n",
            "Train score : 1.0\n",
            "Test score : 0.5409836065573771\n",
            "Accuracy score :0.5409836065573771\n",
            "CR:              precision    recall  f1-score   support\n",
            "\n",
            "           0       0.73      0.91      0.81        35\n",
            "           1       0.14      0.08      0.10        13\n",
            "           2       0.00      0.00      0.00         6\n",
            "           3       0.00      0.00      0.00         4\n",
            "           4       0.00      0.00      0.00         3\n",
            "\n",
            "    accuracy                           0.54        61\n",
            "   macro avg       0.17      0.20      0.18        61\n",
            "weighted avg       0.45      0.54      0.49        61\n",
            "\n",
            "----------------------------------------------------------------------------------------------------\n",
            "\n",
            "AdaBoosting:\n",
            "\n",
            "Train score : 0.6115702479338843\n",
            "Test score : 0.6557377049180327\n",
            "Accuracy score :0.6557377049180327\n",
            "CR:              precision    recall  f1-score   support\n",
            "\n",
            "           0       0.85      0.83      0.84        35\n",
            "           1       0.47      0.69      0.56        13\n",
            "           2       0.17      0.17      0.17         6\n",
            "           3       0.00      0.00      0.00         4\n",
            "           4       0.50      0.33      0.40         3\n",
            "\n",
            "    accuracy                           0.66        61\n",
            "   macro avg       0.40      0.40      0.39        61\n",
            "weighted avg       0.63      0.66      0.64        61\n",
            "\n",
            "----------------------------------------------------------------------------------------------------\n",
            "\n",
            "XGboost:\n",
            "\n",
            "[21:07:54] WARNING: C:/Users/Administrator/workspace/xgboost-win64_release_1.4.0/src/learner.cc:1095: Starting in XGBoost 1.3.0, the default evaluation metric used with the objective 'multi:softprob' was changed from 'merror' to 'mlogloss'. Explicitly set eval_metric if you'd like to restore the old behavior.\n",
            "Train score : 1.0\n",
            "Test score : 0.5573770491803278\n",
            "Accuracy score :0.5573770491803278\n",
            "CR:              precision    recall  f1-score   support\n",
            "\n",
            "           0       0.76      0.89      0.82        35\n",
            "           1       0.18      0.15      0.17        13\n",
            "           2       0.00      0.00      0.00         6\n",
            "           3       0.20      0.25      0.22         4\n",
            "           4       0.00      0.00      0.00         3\n",
            "\n",
            "    accuracy                           0.56        61\n",
            "   macro avg       0.23      0.26      0.24        61\n",
            "weighted avg       0.49      0.56      0.52        61\n",
            "\n",
            "----------------------------------------------------------------------------------------------------\n",
            "\n",
            "logistic regression:\n",
            "\n",
            "Train score : 0.6528925619834711\n",
            "Test score : 0.6065573770491803\n",
            "Accuracy score :0.6065573770491803\n",
            "CR:              precision    recall  f1-score   support\n",
            "\n",
            "           0       0.74      0.89      0.81        35\n",
            "           1       0.38      0.23      0.29        13\n",
            "           2       0.25      0.17      0.20         6\n",
            "           3       0.29      0.50      0.36         4\n",
            "           4       0.00      0.00      0.00         3\n",
            "\n",
            "    accuracy                           0.61        61\n",
            "   macro avg       0.33      0.36      0.33        61\n",
            "weighted avg       0.55      0.61      0.57        61\n",
            "\n"
          ],
          "name": "stdout"
        }
      ]
    },
    {
      "cell_type": "code",
      "metadata": {
        "id": "uxoFqITJOvDR"
      },
      "source": [
        ""
      ],
      "execution_count": null,
      "outputs": []
    }
  ]
}